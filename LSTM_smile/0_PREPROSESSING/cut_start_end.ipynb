{
 "cells": [
  {
   "cell_type": "markdown",
   "id": "00ac26c3",
   "metadata": {},
   "source": [
    "This code is needed to determine the start and end of the movement"
   ]
  },
  {
   "cell_type": "code",
   "execution_count": null,
   "id": "24c8b3e1",
   "metadata": {},
   "outputs": [],
   "source": [
    "import numpy as np\n",
    "import pandas as pd\n",
    "import os\n",
    "import pathlib\n",
    "import sys\n",
    "sys.path.append(\"C:\\\\Users\\\\olgat\\\\Desktop\\\\Stage Amiens\\\\6_Github\\\\1_FUNCTIONS\")\n",
    "import functions"
   ]
  },
  {
   "cell_type": "markdown",
   "id": "f8beb57f",
   "metadata": {},
   "source": [
    "### Healthy subjects "
   ]
  },
  {
   "cell_type": "markdown",
   "id": "600be5cd",
   "metadata": {},
   "source": [
    "#### Healthy subjects  x3"
   ]
  },
  {
   "cell_type": "code",
   "execution_count": null,
   "id": "c80a3b54",
   "metadata": {},
   "outputs": [],
   "source": [
    "path =  \"C:/Users/olgat/Desktop/Stage Amiens/0 - DATA/ML_MoCap_Félix_et_x3/5Mh_x3_ref\"\n",
    "mocap_csv = functions.list_of_files(path, shuffle=False)\n",
    "M5_list = []\n",
    "for elem in mocap_csv:\n",
    "    if elem[-7] == '5':\n",
    "        M5_list.append(elem)        \n",
    "mocap_csv = M5_list\n",
    "print(len(mocap_csv))"
   ]
  },
  {
   "cell_type": "code",
   "execution_count": null,
   "id": "6b3ac674",
   "metadata": {},
   "outputs": [],
   "source": [
    "def cup_x3(num_csv, s_1, e_1, s_2, e_2, s_3, e_3, save_dir = None): # start and end of movement  \n",
    "    csv = pd.read_csv(mocap_csv[num_csv], header=None)    \n",
    "    csv_1 = csv.loc[s_1:e_1:,]\n",
    "    csv_2 = csv.loc[s_2:e_2:,]\n",
    "    csv_3 = csv.loc[s_3:e_3:,]\n",
    "    if save_dir is not None:  ## SAVE CSV\n",
    "        os.chdir(save_dir)\n",
    "        csv_1.to_csv(path_or_buf=f'1_{mocap_csv[num_csv][77:]}', index=False, header=False)\n",
    "        csv_2.to_csv(path_or_buf=f'2_{mocap_csv[num_csv][77:]}', index=False, header=False)\n",
    "        csv_3.to_csv(path_or_buf=f'3_{mocap_csv[num_csv][77:]}', index=False, header=False)\n",
    "    return csv_1, csv_2, csv_3"
   ]
  },
  {
   "cell_type": "code",
   "execution_count": null,
   "id": "d78c9561",
   "metadata": {},
   "outputs": [],
   "source": [
    "csv_1,  csv_2, csv_3 = cup_x3(0, 50, 257, 875, 1124, 1945, 2205)\n",
    "csv_1,  csv_2, csv_3 = cup_x3(1, 230, 570, 1110, 1345, 1880, 2200)\n",
    "csv_1,  csv_2, csv_3 = cup_x3(2, 70, 300, 855, 1100, 1510, 1720)\n",
    "csv_1,  csv_2, csv_3 = cup_x3(4, 0, 230, 670, 900, 1260, 1560 )\n",
    "csv_1,  csv_2, csv_3 = cup_x3(5, 110, 500, 1055, 1453, 1930, 2385)\n",
    "csv_1.shape, csv_2.shape, csv_3.shape"
   ]
  },
  {
   "cell_type": "markdown",
   "id": "10e261fe",
   "metadata": {},
   "source": [
    "#### Healthy subjects x1"
   ]
  },
  {
   "cell_type": "code",
   "execution_count": null,
   "id": "294ab60c",
   "metadata": {},
   "outputs": [],
   "source": [
    "path  = \"C:/Users/olgat/Desktop/Stage Amiens/4 - ML_MoCap/Mvt5/5Mh_ref_M5\"\n",
    "mocap_csv = functions.list_of_files(path, shuffle=False)\n",
    "mocap_csv = mocap_csv[18:]"
   ]
  },
  {
   "cell_type": "code",
   "execution_count": null,
   "id": "671fbe35",
   "metadata": {},
   "outputs": [],
   "source": [
    "for elem in mocap_csv:\n",
    "    print (elem[65:])"
   ]
  },
  {
   "cell_type": "code",
   "execution_count": null,
   "id": "588cbd5b",
   "metadata": {},
   "outputs": [],
   "source": [
    "def cup(num_csv, start, end, save_dir = None, elem = None):\n",
    "    csv = pd.read_csv(mocap_csv[num_csv], header=None).fillna(0)\n",
    "    csv_c = csv.loc[start:end:,]\n",
    "\n",
    "    if save_dir is not None:        \n",
    "        os.chdir(save_dir)\n",
    "        csv_c.to_csv(path_or_buf=mocap_csv[num_csv][elem:], index=False, header=False)\n",
    "    return csv_c "
   ]
  },
  {
   "cell_type": "markdown",
   "id": "f818cba3",
   "metadata": {},
   "source": [
    "    Start and end defined with VICON\n",
    "    AA01_bisM5\t0 52 300\n",
    "    ABD_M5     1 65 295\n",
    "    AC_M5      2 70 350\n",
    "    AD01_M5\t3 25 440\n",
    "    AG01_M5\t4 40 395\n",
    "    AT01_M5\t5 0 310\n",
    "    BT01_M5\t6 90 380\n",
    "    CAD01_M5   7 25 340\n",
    "    CD01_M5\t8 16 340\n",
    "    CG02_M5\t9 10 353\n",
    "    CG031_M5   10 53 345\n",
    "    CN01_M5\t11 25 410\n",
    "    CR01_M5\t12 55 360\n",
    "    FRS02_M5   13 30 340\n",
    "    FRS_M5\t 14 90 410\n",
    "    GG01ok_M5  15 3 250\n",
    "    JB01_M5\t16 40 370\n",
    "    M5\t     17 10 645\n",
    "    MM01_M5\t18 10 300\n",
    "    MP01_M05   19 8 285\n",
    "    NL01_M5\t20 20 220\n",
    "    PS01_M5\t21 15 305\n",
    "    QS_M5\t  22 25 360\n",
    "    RL01_M5\t23 25 400\n",
    "    RS01_M5\t24 20 230\n",
    "    TP01_M5\t25 26 317"
   ]
  },
  {
   "cell_type": "code",
   "execution_count": null,
   "id": "4db1f402",
   "metadata": {},
   "outputs": [],
   "source": [
    "elem = 65\n",
    "csv0 = cup(0, 52, 300)\n",
    "csv1 = cup(1, 65, 295)\n",
    "csv2 = cup(2, 70, 350)\n",
    "csv3 = cup(3, 25, 440)\n",
    "csv4 = cup(4, 40, 395)\n",
    "csv5 = cup(5, 0, 310)\n",
    "csv6 = cup(6, 90, 380)\n",
    "csv7 = cup(7, 25, 340)\n",
    "csv8 = cup(8, 16, 340)\n",
    "csv9 = cup(9, 10, 353)\n",
    "cs10 = cup(10, 53, 345)\n",
    "csv11 = cup(11, 25, 410)\n",
    "csv12 = cup(12, 55, 360)\n",
    "csv13 = cup(13, 30, 340)\n",
    "csv14 = cup(14, 90, 410)\n",
    "csv15 = cup(15, 3, 250)\n",
    "csv16 = cup(16, 40, 370)\n",
    "csv17 = cup(17, 10, 645)\n",
    "csv18 = cup(18, 10, 300)\n",
    "csv19 = cup(19, 8, 285)\n",
    "csv20 = cup(20, 20, 220)\n",
    "csv21 = cup(21, 15, 305)\n",
    "csv22 = cup(22, 25, 360)\n",
    "csv23 = cup(23, 25, 400)\n",
    "csv24 = cup(24, 20, 230)\n",
    "csv25 = cup(25, 26, 317)"
   ]
  },
  {
   "cell_type": "markdown",
   "id": "0d54b469",
   "metadata": {},
   "source": [
    "### Paralyse"
   ]
  },
  {
   "cell_type": "code",
   "execution_count": null,
   "id": "330cd105",
   "metadata": {},
   "outputs": [],
   "source": [
    "path  = \"C:/Users/olgat/Desktop/Stage Amiens/5 - MALADE/M5p_ref\"\n",
    "mocap_csv = functions.list_of_files(path, shuffle=False)"
   ]
  },
  {
   "cell_type": "code",
   "execution_count": null,
   "id": "109d856b",
   "metadata": {},
   "outputs": [],
   "source": [
    "elem = 55\n",
    "csv0 = cup(0, 0,315)\n",
    "csv1 = cup(2, 0, 408)\n",
    "csv2 = cup(3, 0, 320)\n",
    "csv3 = cup(4, 0, 313)"
   ]
  },
  {
   "cell_type": "code",
   "execution_count": null,
   "id": "465b4b77",
   "metadata": {},
   "outputs": [],
   "source": []
  }
 ],
 "metadata": {
  "kernelspec": {
   "display_name": "Python 3 (ipykernel)",
   "language": "python",
   "name": "python3"
  },
  "language_info": {
   "codemirror_mode": {
    "name": "ipython",
    "version": 3
   },
   "file_extension": ".py",
   "mimetype": "text/x-python",
   "name": "python",
   "nbconvert_exporter": "python",
   "pygments_lexer": "ipython3",
   "version": "3.8.8"
  },
  "toc": {
   "base_numbering": 1,
   "nav_menu": {},
   "number_sections": true,
   "sideBar": true,
   "skip_h1_title": false,
   "title_cell": "Table of Contents",
   "title_sidebar": "Contents",
   "toc_cell": false,
   "toc_position": {},
   "toc_section_display": true,
   "toc_window_display": false
  }
 },
 "nbformat": 4,
 "nbformat_minor": 5
}
