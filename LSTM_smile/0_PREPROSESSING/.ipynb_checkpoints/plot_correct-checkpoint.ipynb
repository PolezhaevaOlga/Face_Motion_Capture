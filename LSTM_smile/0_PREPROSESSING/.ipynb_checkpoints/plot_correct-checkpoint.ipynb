{
 "cells": [
  {
   "cell_type": "code",
   "execution_count": null,
   "id": "5762fefa",
   "metadata": {},
   "outputs": [],
   "source": [
    "import sys\n",
    "sys.path.append(\"C:\\\\Users\\\\olgat\\\\Desktop\\\\Stage Amiens\\\\6_Github\\\\1_FUNCTIONS\")\n",
    "import functions\n",
    "import numpy as np\n",
    "import pandas as pd\n",
    "import os\n",
    "import plotly.offline as py\n",
    "py.init_notebook_mode(connected=False)\n",
    "import plotly.graph_objs as go\n",
    "import plotly as py\n",
    "from plotly.offline import iplot, init_notebook_mode\n",
    "# Using plotly + cufflinks in offline mode\n",
    "import cufflinks\n",
    "cufflinks.go_offline(connected=True)\n",
    "init_notebook_mode(connected=True)"
   ]
  },
  {
   "cell_type": "code",
   "execution_count": null,
   "id": "5bc996b6",
   "metadata": {},
   "outputs": [],
   "source": [
    "path = \"C:/Users/olgat/Desktop/Stage Amiens/4 - ML_MoCap/Mvt5/5MhrdP0_M5\"\n",
    "ref_csv = functions.list_of_files(path,shuffle=False)\n",
    "ref_csv"
   ]
  },
  {
   "cell_type": "code",
   "execution_count": null,
   "id": "1997bc6f",
   "metadata": {},
   "outputs": [],
   "source": [
    "#If you need to downsize the data\n",
    "# Displacement  after Downscaling 3d -> 1d\n",
    "# dP0 = functions.ref_to_dP0(ref_csv)  "
   ]
  },
  {
   "cell_type": "code",
   "execution_count": null,
   "id": "7e774f7f",
   "metadata": {},
   "outputs": [],
   "source": [
    "# for i in range(len(dP0)):\n",
    "#     csv= pd.DataFrame(dP0[i]).fillna(0)\n",
    "#     df_smile = csv.iloc[:,40:93]  # markers smile\n",
    "#     csv = df_smile[1:]\n",
    "#     #print(elem[69:])\n",
    "#     csv.iplot(xTitle='Frame', yTitle='Déplacement [mm]',title = f'{csv.shape} ')"
   ]
  },
  {
   "cell_type": "code",
   "execution_count": null,
   "id": "05488488",
   "metadata": {
    "scrolled": false
   },
   "outputs": [],
   "source": [
    "for elem in ref_csv:\n",
    "    csv = pd.read_csv(elem, header=None).fillna(0)\n",
    "    df_smile = csv.iloc[:,40:93]  \n",
    "    csv = df_smile[1:] \n",
    "    csv.iplot(xTitle='Frame', yTitle='Displacement [mm]',title = f'{csv.shape} ')"
   ]
  }
 ],
 "metadata": {
  "kernelspec": {
   "display_name": "Python 3 (ipykernel)",
   "language": "python",
   "name": "python3"
  },
  "language_info": {
   "codemirror_mode": {
    "name": "ipython",
    "version": 3
   },
   "file_extension": ".py",
   "mimetype": "text/x-python",
   "name": "python",
   "nbconvert_exporter": "python",
   "pygments_lexer": "ipython3",
   "version": "3.8.8"
  },
  "toc": {
   "base_numbering": 1,
   "nav_menu": {},
   "number_sections": true,
   "sideBar": true,
   "skip_h1_title": false,
   "title_cell": "Table of Contents",
   "title_sidebar": "Contents",
   "toc_cell": false,
   "toc_position": {},
   "toc_section_display": true,
   "toc_window_display": false
  }
 },
 "nbformat": 4,
 "nbformat_minor": 5
}
